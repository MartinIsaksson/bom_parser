{
 "cells": [
  {
   "cell_type": "code",
   "execution_count": null,
   "metadata": {},
   "outputs": [],
   "source": [
    "pip install pandas openpyxl lxml\n"
   ]
  },
  {
   "attachments": {},
   "cell_type": "markdown",
   "metadata": {},
   "source": [
    "### Read and parse the PLM XML"
   ]
  },
  {
   "cell_type": "code",
   "execution_count": null,
   "metadata": {},
   "outputs": [],
   "source": [
    "import pandas as pd\n",
    "from lxml import etree\n",
    "from itertools import islice\n",
    "from collections import defaultdict"
   ]
  },
  {
   "cell_type": "code",
   "execution_count": null,
   "metadata": {},
   "outputs": [],
   "source": [
    "PLMXML_PATH = 'instance_graf.xml'"
   ]
  },
  {
   "cell_type": "code",
   "execution_count": null,
   "metadata": {},
   "outputs": [],
   "source": [
    "\n",
    "\n",
    "plm_xml_df = pd.read_xml(PLMXML_PATH, parser='lxml')"
   ]
  },
  {
   "cell_type": "code",
   "execution_count": null,
   "metadata": {},
   "outputs": [],
   "source": [
    "def flatten_xml(node, key_prefix=()):\n",
    "    \"\"\"\n",
    "    Walk an XML node, generating tuples of key parts and values.\n",
    "    \"\"\"\n",
    "\n",
    "    # Copy tag content if any\n",
    "    text = (node.text or '').strip()\n",
    "    if text:\n",
    "        yield key_prefix, text\n",
    "\n",
    "    # Copy attributes\n",
    "    for attr, value in node.items():\n",
    "        yield key_prefix + (attr,), value\n",
    "\n",
    "    # Recurse into children\n",
    "    for child in node:\n",
    "        yield from flatten_xml(child, key_prefix + (child.tag,))\n",
    "\n",
    "\n",
    "def dictify_key_pairs(pairs, key_sep='-'):\n",
    "    \"\"\"\n",
    "    Dictify key pairs from flatten_xml, taking care of duplicate keys.\n",
    "    \"\"\"\n",
    "    out = {}\n",
    "\n",
    "    # Group by candidate key.\n",
    "    key_map = defaultdict(list)\n",
    "    for key_parts, value in pairs:\n",
    "        key_map[key_sep.join(key_parts)].append(value)\n",
    "\n",
    "    # Figure out the final dict with suffixes if required.\n",
    "    for key, values in key_map.items():\n",
    "        if len(values) == 1:  # No need to suffix keys.\n",
    "            out[key] = values[0]\n",
    "        else:  # More than one value for this key.\n",
    "            for suffix, value in enumerate(values, 1):\n",
    "                out[f'{key}{key_sep}{suffix}'] = value\n",
    "\n",
    "    return out"
   ]
  },
  {
   "cell_type": "code",
   "execution_count": null,
   "metadata": {},
   "outputs": [],
   "source": [
    "path = 'digi_150_VCC110_V536_2021-08-18.plmxml'\n",
    "parser = etree.XMLParser(encoding='utf-8', recover=True)\n",
    "tree = etree.parse(path, parser)"
   ]
  },
  {
   "cell_type": "code",
   "execution_count": null,
   "metadata": {},
   "outputs": [],
   "source": [
    "rows = [dictify_key_pairs(flatten_xml(row)) for row in tree.iter()]"
   ]
  },
  {
   "cell_type": "code",
   "execution_count": null,
   "metadata": {},
   "outputs": [],
   "source": [
    "len(rows)"
   ]
  },
  {
   "cell_type": "code",
   "execution_count": null,
   "metadata": {},
   "outputs": [],
   "source": [
    "selected_rows_iter =islice(rows, 1500000, None)\n",
    "for row in selected_rows_iter:\n",
    "    print(row)"
   ]
  },
  {
   "cell_type": "code",
   "execution_count": null,
   "metadata": {},
   "outputs": [],
   "source": [
    "iterable = tree.iter()\n",
    "print(f\"TYPE {type(iterable)}\" )\n"
   ]
  }
 ],
 "metadata": {
  "kernelspec": {
   "display_name": "Python 3",
   "language": "python",
   "name": "python3"
  },
  "language_info": {
   "name": "python",
   "version": "3.9.13 (tags/v3.9.13:6de2ca5, May 17 2022, 16:36:42) [MSC v.1929 64 bit (AMD64)]"
  },
  "orig_nbformat": 4,
  "vscode": {
   "interpreter": {
    "hash": "8e284ee3255a07ad8bf76694974743c4c81cb57e7c969474d752d949b11d721e"
   }
  }
 },
 "nbformat": 4,
 "nbformat_minor": 2
}
